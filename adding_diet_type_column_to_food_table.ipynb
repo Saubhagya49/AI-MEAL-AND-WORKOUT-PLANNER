{
  "nbformat": 4,
  "nbformat_minor": 0,
  "metadata": {
    "colab": {
      "provenance": []
    },
    "kernelspec": {
      "name": "python3",
      "display_name": "Python 3"
    },
    "language_info": {
      "name": "python"
    }
  },
  "cells": [
    {
      "cell_type": "code",
      "execution_count": null,
      "metadata": {
        "colab": {
          "base_uri": "https://localhost:8080/"
        },
        "id": "Q-3eI_7_uo_p",
        "outputId": "f2cd4efc-7be7-4aed-d5ea-784c799f1523"
      },
      "outputs": [
        {
          "output_type": "stream",
          "name": "stdout",
          "text": [
            "   cid         name  type  notnull dflt_value  pk\n",
            "0    0  description  TEXT        0       None   0\n",
            "1    1     calories  REAL        0       None   0\n",
            "2    2       carb_g  REAL        0       None   0\n",
            "3    3    protein_g  REAL        0       None   0\n",
            "4    4        fat_g  REAL        0       None   0\n"
          ]
        }
      ],
      "source": [
        "import pandas as pd\n",
        "import sqlite3\n",
        "\n",
        "# Load database\n",
        "db_path = \"/content/fitness_planner.db\"  # Update this path\n",
        "conn = sqlite3.connect(db_path)\n",
        "\n",
        "# Check table structure\n",
        "df = pd.read_sql_query(\"PRAGMA table_info(food);\", conn)\n",
        "print(df)\n"
      ]
    },
    {
      "cell_type": "code",
      "source": [
        "# Load the food table\n",
        "df_food = pd.read_sql_query(\"SELECT * FROM food;\", conn)\n",
        "\n",
        "# Define food categories\n",
        "veg_items = ['paneer', 'chickpea', 'lentil', 'tofu', 'banana', 'almond', 'peanut', 'rice']\n",
        "non_veg_items = ['chicken', 'fish', 'egg', 'meat']\n",
        "vegan_items = ['tofu', 'almond', 'quinoa', 'lentil']\n",
        "\n",
        "# Function to classify diet type\n",
        "def classify_diet(food_name):\n",
        "    name = food_name.lower()\n",
        "    if any(item in name for item in non_veg_items):\n",
        "        return \"Non-Vegetarian\"\n",
        "    elif any(item in name for item in vegan_items):\n",
        "        return \"Vegan\"\n",
        "    else:\n",
        "        return \"Vegetarian\"\n",
        "\n",
        "# Add diet_type column\n",
        "df_food['diet_type'] = df_food['description'].apply(classify_diet)\n",
        "\n",
        "# Save updated table back to the database\n",
        "df_food.to_sql('food', conn, if_exists='replace', index=False)\n",
        "print(\"✅ 'diet_type' column added successfully!\")\n",
        "\n",
        "conn.close()\n"
      ],
      "metadata": {
        "colab": {
          "base_uri": "https://localhost:8080/"
        },
        "id": "cvkx9iecxfv8",
        "outputId": "31ed1ea8-d7b0-4f39-c059-885e8bc91b53"
      },
      "execution_count": null,
      "outputs": [
        {
          "output_type": "stream",
          "name": "stdout",
          "text": [
            "✅ 'diet_type' column added successfully!\n"
          ]
        }
      ]
    },
    {
      "cell_type": "code",
      "source": [
        "# Reload and check if 'diet_type' is added\n",
        "conn = sqlite3.connect(db_path)\n",
        "df_check = pd.read_sql_query(\"SELECT * FROM food LIMIT 5;\", conn)\n",
        "print(df_check)\n",
        "conn.close()\n"
      ],
      "metadata": {
        "colab": {
          "base_uri": "https://localhost:8080/"
        },
        "id": "rWKEgxcoxrFA",
        "outputId": "33cf3a2f-9e91-4946-958a-9da309a4c378"
      },
      "execution_count": null,
      "outputs": [
        {
          "output_type": "stream",
          "name": "stdout",
          "text": [
            "                   description   calories    carb_g  protein_g     fat_g  \\\n",
            "0         Hot tea (Garam Chai)  16.144299  2.581948   0.387886  0.532067   \n",
            "1               Instant coffee  23.155832  3.653333   0.640667  0.746667   \n",
            "2               Espreso coffee  51.543373  6.620505   1.747003  2.138170   \n",
            "3                     Iced tea  10.342188  2.701562   0.027969  0.010937   \n",
            "4  Raw mango drink (Aam panna)  35.918221  9.047467   0.157034  0.026341   \n",
            "\n",
            "    diet_type  \n",
            "0  Vegetarian  \n",
            "1  Vegetarian  \n",
            "2  Vegetarian  \n",
            "3  Vegetarian  \n",
            "4  Vegetarian  \n"
          ]
        }
      ]
    }
  ]
}