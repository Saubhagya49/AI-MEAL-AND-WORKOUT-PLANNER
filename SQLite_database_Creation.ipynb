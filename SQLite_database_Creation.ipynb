{
  "nbformat": 4,
  "nbformat_minor": 0,
  "metadata": {
    "colab": {
      "provenance": []
    },
    "kernelspec": {
      "name": "python3",
      "display_name": "Python 3"
    },
    "language_info": {
      "name": "python"
    }
  },
  "cells": [
    {
      "cell_type": "markdown",
      "source": [
        "# AI Diet & Workout Planner\n",
        "## **Author:** Saubhagya Srivastav\n",
        "## **Date:** 01 MARCH 2025"
      ],
      "metadata": {
        "id": "Nxfb0DUn1vyN"
      }
    },
    {
      "cell_type": "markdown",
      "source": [
        "## DATABASE CREATION\n"
      ],
      "metadata": {
        "id": "zpOXn5262Dgv"
      }
    },
    {
      "cell_type": "code",
      "execution_count": 3,
      "metadata": {
        "colab": {
          "base_uri": "https://localhost:8080/"
        },
        "id": "iabVbrCe1hOb",
        "outputId": "8110d1d4-2278-497e-c7b0-0883302701c0"
      },
      "outputs": [
        {
          "output_type": "stream",
          "name": "stdout",
          "text": [
            "✅ Food Database Created & Populated!\n",
            "✅ Exercise Database Created & Populated!\n",
            "📁 Database saved as: /content/fitness_planner.db\n"
          ]
        }
      ],
      "source": [
        "import pandas as pd\n",
        "import sqlite3\n",
        "\n",
        "# Define database file\n",
        "db_file = \"/content/fitness_planner.db\"\n",
        "\n",
        "# Connect to SQLite database (creates if not exists)\n",
        "conn = sqlite3.connect(db_file)\n",
        "cursor = conn.cursor()\n",
        "\n",
        "# -------------------------------\n",
        "# 📌 PART 1: FOOD DATABASE SETUP\n",
        "# -------------------------------\n",
        "\n",
        "# LOAD THE FOOD DATASET\n",
        "food_file = \"/content/finalfooddata.csv\"\n",
        "df_food = pd.read_csv(food_file)\n",
        "\n",
        "# Create Food Table\n",
        "cursor.execute('''\n",
        "    CREATE TABLE IF NOT EXISTS food (\n",
        "        id INTEGER PRIMARY KEY AUTOINCREMENT,\n",
        "        food_name TEXT,\n",
        "        calories INTEGER,\n",
        "        protein INTEGER,\n",
        "        carbs INTEGER,\n",
        "        fats INTEGER,\n",
        "        diet_type TEXT\n",
        "    )\n",
        "''')\n",
        "\n",
        "# Insert food data into the table\n",
        "df_food.to_sql('food', conn, if_exists='replace', index=False)\n",
        "\n",
        "print(\"✅ Food Database Created & Populated!\")\n",
        "\n",
        "\n",
        "# -------------------------------\n",
        "# 📌 PART 2: EXERCISE DATABASE SETUP\n",
        "# -------------------------------\n",
        "\n",
        "# Load your preprocessed gym exercises dataset\n",
        "exercise_file = \"/content/gym_exercises_cleaned.csv\"  # Ensure this file is uploaded\n",
        "df_exercise = pd.read_csv(exercise_file)\n",
        "\n",
        "# Standardize column names\n",
        "df_exercise.columns = df_exercise.columns.str.lower().str.replace(\" \", \"_\")\n",
        "\n",
        "# Categorize equipment: Bodyweight, Dumbbells, or Gym Equipment\n",
        "df_exercise['equipment'] = df_exercise['equipment'].str.lower()\n",
        "df_exercise['equipment_category'] = df_exercise['equipment'].apply(lambda x: \"Bodyweight\" if \"bodyweight\" in x\n",
        "                                                                   else \"Dumbbells\" if \"dumbbell\" in x\n",
        "                                                                   else \"Full Gym\")\n",
        "\n",
        "# Create Exercise Table\n",
        "cursor.execute('''\n",
        "    CREATE TABLE IF NOT EXISTS exercise (\n",
        "        id INTEGER PRIMARY KEY AUTOINCREMENT,\n",
        "        title TEXT,\n",
        "        desc TEXT,\n",
        "        type TEXT,\n",
        "        bodypart TEXT,\n",
        "        equipment TEXT,\n",
        "        level TEXT,\n",
        "        rating REAL,\n",
        "        ratingdesc TEXT,\n",
        "        difficulty TEXT,\n",
        "        equipment_category TEXT\n",
        "    )\n",
        "''')\n",
        "\n",
        "# Insert exercise data\n",
        "df_exercise.to_sql('exercise', conn, if_exists='replace', index=False)\n",
        "\n",
        "print(\"✅ Exercise Database Created & Populated!\")\n",
        "\n",
        "# -------------------------------\n",
        "# 📌 SAVE & CLOSE DATABASE\n",
        "# -------------------------------\n",
        "conn.commit()\n",
        "conn.close()\n",
        "\n",
        "print(\"📁 Database saved as:\", db_file)\n"
      ]
    }
  ]
}